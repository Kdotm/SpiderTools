{
 "cells": [
  {
   "cell_type": "markdown",
   "metadata": {},
   "source": [
    "# 机器学习中 距离计算"
   ]
  },
  {
   "cell_type": "code",
   "execution_count": 11,
   "metadata": {
    "collapsed": true
   },
   "outputs": [],
   "source": [
    "import numpy as np\n",
    "import math"
   ]
  },
  {
   "cell_type": "markdown",
   "metadata": {},
   "source": [
    "## 1. 欧式距离(Euclidean)\n",
    "    # 11. 多维空间内的点和点之间几何距离\n",
    "    # 22. 传入参数为两个向量，返回值为欧式距离\n",
    "    # 33. 代码具有多种实现方式"
   ]
  },
  {
   "cell_type": "code",
   "execution_count": 7,
   "metadata": {
    "collapsed": true
   },
   "outputs": [],
   "source": [
    "def Euclidean(vecA, vecB, way):\n",
    "    if way == 0 :\n",
    "        return math.sqrt(((npvecA-npvecB)**2).sum())\n",
    "    elif way == 1 :\n",
    "        return sqrt((vector1-vector2)*((vector1-vector2).T))\n",
    "    else:\n",
    "        print ('请选择计算方式！')"
   ]
  },
  {
   "cell_type": "markdown",
   "metadata": {},
   "source": [
    "# 2. 曼哈顿距离(Manhattan)\n",
    "    # 欧式距离是直线距离，曼哈顿距离是折线距离"
   ]
  },
  {
   "cell_type": "code",
   "execution_count": 6,
   "metadata": {},
   "outputs": [
    {
     "data": {
      "text/plain": [
       "3"
      ]
     },
     "execution_count": 6,
     "metadata": {},
     "output_type": "execute_result"
    }
   ],
   "source": [
    "def Manhattan(vecA, vecB):\n",
    "    \n",
    "    return np.abs(npvecA-npvecB).sum()"
   ]
  },
  {
   "cell_type": "markdown",
   "metadata": {},
   "source": [
    "# 3. 切比雪夫距离(Chebyshev)\n",
    "    # 用于在多维空间中，将对象从某个位置移动到另外一个对象所消耗的最小距离"
   ]
  },
  {
   "cell_type": "code",
   "execution_count": null,
   "metadata": {
    "collapsed": true
   },
   "outputs": [],
   "source": [
    "def Chebyshev(vec1, vec2):\n",
    "    \n",
    "    return max(np.abs(npvec1-npvec2))"
   ]
  },
  {
   "cell_type": "markdown",
   "metadata": {},
   "source": [
    "# 4. 闵可夫斯基(Minkowski)\n",
    "        # 1. 距离最常用的 p 是 2 和 1, 前者是欧几里得距离（Euclidean distance），后者是曼哈顿距离\n",
    "        # 2. 当 p 趋近于无穷大时，闵可夫斯基距离转化成切比雪夫距离"
   ]
  },
  {
   "cell_type": "code",
   "execution_count": null,
   "metadata": {
    "collapsed": true
   },
   "outputs": [],
   "source": [
    "x=np.random.random(5)\n",
    "y=np.random.random(5)\n",
    "\n",
    "#方法一：根据公式求解,p=2\n",
    "print (np.sqrt(np.sum(np.square(x-y))))\n",
    "\n",
    "#方法二：根据scipy库求解\n",
    "from scipy.spatial.distance import pdist\n",
    "X=np.vstack([x,y])\n",
    "print (pdist(X,'minkowski',p=2))"
   ]
  },
  {
   "cell_type": "markdown",
   "metadata": {},
   "source": [
    "# 4. 马氏距离(Mahalanobis)"
   ]
  },
  {
   "cell_type": "markdown",
   "metadata": {},
   "source": [
    "## 表示数据的协方差距离，是一种有效的计算两个未知样本集的相似度的方法\n",
    "## 马氏距离要求样本数要大于维数，否则无法求协方差矩阵"
   ]
  },
  {
   "cell_type": "code",
   "execution_count": 72,
   "metadata": {
    "collapsed": true
   },
   "outputs": [],
   "source": [
    "\n",
    "# 转置，表示10个样本，每个样本2维\n",
    "X=np.vstack([np.random.random(10), np.random.random(10)])\n",
    "XT=X.T\n",
    "\n",
    "# 方法一：根据公式求解\n",
    "S=np.cov(X)   # 两个维度之间协方差矩阵\n",
    "SI = np.linalg.inv(S) # 协方差矩阵的逆矩阵\n",
    "\n",
    "# 马氏距离计算两个样本之间的距离，此处共有10个样本，两两组合，共有45个距离。\n",
    "n=XT.shape[0]\n",
    "d1=[]\n",
    "for i in range(0,n):\n",
    "    for j in range(i+1,n):\n",
    "        delta=XT[i]-XT[j]\n",
    "        d=np.sqrt(np.dot(np.dot(delta,SI),delta.T))\n",
    "        d1.append(d)\n",
    "        \n",
    "# 方法二：根据scipy库求解\n",
    "from scipy.spatial.distance import pdist\n",
    "d2=pdist(XT,'mahalanobis')"
   ]
  },
  {
   "cell_type": "code",
   "execution_count": 79,
   "metadata": {},
   "outputs": [
    {
     "name": "stdout",
     "output_type": "stream",
     "text": [
      "[1.2235931588364666, 0.82366053652190385, 2.1121190349537278, 1.1638532203683336, 1.2135789857980777, 1.9916281220343783, 1.4282225217803972, 1.0209619292247298, 2.6399977655985141, 0.51763536010143008, 3.2066843935127234, 2.3800993475771794, 2.0177326240798719, 2.2552971937952244, 2.6517431908092517, 0.91760753042417542, 2.8438974668468999, 2.9171866680633789, 1.9308971526410643, 1.8580584141891734, 2.3368581717948995, 2.2211261546511429, 1.0187409408652506, 2.9679230676744877, 1.4743568956551674, 1.3174836617161736, 2.0925456446838697, 1.2258067336319873, 2.4943795729195957, 2.4250209448648854, 1.4842049565969677, 2.5294944120867062, 0.32160251594317396, 2.0650309845856452, 3.1047309326874033, 1.0498994130437895, 1.5083160348117903, 1.2045194607083367, 1.6251656963933432, 2.5555801789185635, 1.3490756948065694, 0.6498027028966088, 2.2572400864810258, 3.0924770042695893, 1.9617670093974495]\n",
      "[ 1.22359316  0.82366054  2.11211903  1.16385322  1.21357899  1.99162812\n",
      "  1.42822252  1.02096193  2.63999777  0.51763536  3.20668439  2.38009935\n",
      "  2.01773262  2.25529719  2.65174319  0.91760753  2.84389747  2.91718667\n",
      "  1.93089715  1.85805841  2.33685817  2.22112615  1.01874094  2.96792307\n",
      "  1.4743569   1.31748366  2.09254564  1.22580673  2.49437957  2.42502094\n",
      "  1.48420496  2.52949441  0.32160252  2.06503098  3.10473093  1.04989941\n",
      "  1.50831603  1.20451946  1.6251657   2.55558018  1.34907569  0.6498027\n",
      "  2.25724009  3.092477    1.96176701]\n"
     ]
    }
   ],
   "source": [
    "print (d1)\n",
    "print (d2)"
   ]
  },
  {
   "cell_type": "code",
   "execution_count": 71,
   "metadata": {},
   "outputs": [
    {
     "name": "stdout",
     "output_type": "stream",
     "text": [
      "[ 0.48718151  0.9888734 ]\n",
      "[ 0.25107299  0.40016103]\n",
      "--------\n",
      "[ 0.23610852  0.58871236]\n",
      "[ 0.25107299  0.40016103]\n",
      "[ 0.53436156  0.15068729]\n",
      "--------\n",
      "[-0.28328857  0.24947374]\n",
      "[ 0.53436156  0.15068729]\n",
      "[ 0.27438423  0.32450102]\n",
      "--------\n",
      "[ 0.25997733 -0.17381373]\n",
      "[ 0.27438423  0.32450102]\n",
      "[ 0.14249925  0.66702626]\n",
      "--------\n",
      "[ 0.13188499 -0.34252524]\n",
      "[ 0.14249925  0.66702626]\n",
      "[ 0.8364992   0.28387395]\n",
      "--------\n",
      "[-0.69399995  0.38315232]\n",
      "[ 0.8364992   0.28387395]\n",
      "[ 0.6463512   0.60372953]\n",
      "--------\n",
      "[ 0.190148   -0.31985558]\n",
      "[ 0.6463512   0.60372953]\n",
      "[ 0.76219307  0.00768451]\n",
      "--------\n",
      "[-0.11584187  0.59604502]\n",
      "[ 0.76219307  0.00768451]\n",
      "[ 0.30117686  0.15284347]\n",
      "--------\n",
      "[ 0.4610162  -0.14515896]\n",
      "[ 0.30117686  0.15284347]\n",
      "[ 0.73310728  0.09928858]\n",
      "--------\n",
      "[-0.43193041  0.05355489]\n"
     ]
    }
   ],
   "source": [
    "n=XT.shape[0]\n",
    "for i in range(0,n):\n",
    "    for j in range(i+1,n):\n",
    "        print (XT[i])\n",
    "        print (XT[j])\n",
    "        delta=XT[i]-XT[j]\n",
    "        print ('--------')\n",
    "        print (delta)\n",
    "        break"
   ]
  },
  {
   "cell_type": "code",
   "execution_count": null,
   "metadata": {
    "collapsed": true
   },
   "outputs": [],
   "source": []
  },
  {
   "cell_type": "code",
   "execution_count": 35,
   "metadata": {
    "scrolled": false
   },
   "outputs": [
    {
     "name": "stdout",
     "output_type": "stream",
     "text": [
      "[[0 1 0]\n",
      " [0 0 2]]\n",
      "[-1  0]\n",
      "[[ 4.  1.]\n",
      " [ 1.  1.]]\n",
      "2.0\n"
     ]
    }
   ],
   "source": [
    "vecA = [0, 1, 0]\n",
    "vecB = [0, 0, 2]\n",
    "\n",
    "npvecA, npvecB = np.array(vecA), np.array(vecB)\n",
    "\n",
    "npvec = np.array([npvecA, npvecB])\n",
    "\n",
    "print (npvec)\n",
    "\n",
    "sub = npvec.T[0]-npvec.T[1]\n",
    "\n",
    "print (sub)\n",
    "inv_sub = np.linalg.inv(np.cov(npvecA, npvecB))\n",
    "\n",
    "print (inv_sub)\n",
    "print (math.sqrt(np.dot(inv_sub, sub).dot(sub.T)))"
   ]
  },
  {
   "cell_type": "code",
   "execution_count": 45,
   "metadata": {},
   "outputs": [
    {
     "data": {
      "text/plain": [
       "array([-1,  0])"
      ]
     },
     "execution_count": 45,
     "metadata": {},
     "output_type": "execute_result"
    }
   ],
   "source": [
    "sub"
   ]
  },
  {
   "cell_type": "code",
   "execution_count": 44,
   "metadata": {},
   "outputs": [
    {
     "name": "stdout",
     "output_type": "stream",
     "text": [
      "Help on function inv in module numpy.linalg.linalg:\n",
      "\n",
      "inv(a)\n",
      "    Compute the (multiplicative) inverse of a matrix.\n",
      "    \n",
      "    Given a square matrix `a`, return the matrix `ainv` satisfying\n",
      "    ``dot(a, ainv) = dot(ainv, a) = eye(a.shape[0])``.\n",
      "    \n",
      "    Parameters\n",
      "    ----------\n",
      "    a : (..., M, M) array_like\n",
      "        Matrix to be inverted.\n",
      "    \n",
      "    Returns\n",
      "    -------\n",
      "    ainv : (..., M, M) ndarray or matrix\n",
      "        (Multiplicative) inverse of the matrix `a`.\n",
      "    \n",
      "    Raises\n",
      "    ------\n",
      "    LinAlgError\n",
      "        If `a` is not square or inversion fails.\n",
      "    \n",
      "    Notes\n",
      "    -----\n",
      "    \n",
      "    .. versionadded:: 1.8.0\n",
      "    \n",
      "    Broadcasting rules apply, see the `numpy.linalg` documentation for\n",
      "    details.\n",
      "    \n",
      "    Examples\n",
      "    --------\n",
      "    >>> from numpy.linalg import inv\n",
      "    >>> a = np.array([[1., 2.], [3., 4.]])\n",
      "    >>> ainv = inv(a)\n",
      "    >>> np.allclose(np.dot(a, ainv), np.eye(2))\n",
      "    True\n",
      "    >>> np.allclose(np.dot(ainv, a), np.eye(2))\n",
      "    True\n",
      "    \n",
      "    If a is a matrix object, then the return value is a matrix as well:\n",
      "    \n",
      "    >>> ainv = inv(np.matrix(a))\n",
      "    >>> ainv\n",
      "    matrix([[-2. ,  1. ],\n",
      "            [ 1.5, -0.5]])\n",
      "    \n",
      "    Inverses of several matrices can be computed at once:\n",
      "    \n",
      "    >>> a = np.array([[[1., 2.], [3., 4.]], [[1, 3], [3, 5]]])\n",
      "    >>> inv(a)\n",
      "    array([[[-2. ,  1. ],\n",
      "            [ 1.5, -0.5]],\n",
      "           [[-5. ,  2. ],\n",
      "            [ 3. , -1. ]]])\n",
      "\n"
     ]
    }
   ],
   "source": [
    "help(np.linalg.inv)"
   ]
  },
  {
   "cell_type": "code",
   "execution_count": 39,
   "metadata": {},
   "outputs": [
    {
     "data": {
      "text/plain": [
       "array([[ 0.33333333, -0.33333333],\n",
       "       [-0.33333333,  1.33333333]])"
      ]
     },
     "execution_count": 39,
     "metadata": {},
     "output_type": "execute_result"
    }
   ],
   "source": [
    "np.cov(npvecA, npvecB)"
   ]
  },
  {
   "cell_type": "code",
   "execution_count": 38,
   "metadata": {},
   "outputs": [
    {
     "data": {
      "text/plain": [
       "array([-1,  0])"
      ]
     },
     "execution_count": 38,
     "metadata": {},
     "output_type": "execute_result"
    }
   ],
   "source": [
    "sub"
   ]
  },
  {
   "cell_type": "code",
   "execution_count": 37,
   "metadata": {
    "scrolled": true
   },
   "outputs": [
    {
     "data": {
      "text/plain": [
       "array([1, 0])"
      ]
     },
     "execution_count": 37,
     "metadata": {},
     "output_type": "execute_result"
    }
   ],
   "source": [
    "npvec.T[1]"
   ]
  },
  {
   "cell_type": "code",
   "execution_count": 36,
   "metadata": {},
   "outputs": [
    {
     "data": {
      "text/plain": [
       "array([0, 0])"
      ]
     },
     "execution_count": 36,
     "metadata": {},
     "output_type": "execute_result"
    }
   ],
   "source": [
    "npvec.T[0]"
   ]
  },
  {
   "cell_type": "markdown",
   "metadata": {},
   "source": [
    "# 各函数测试结果"
   ]
  },
  {
   "cell_type": "code",
   "execution_count": 33,
   "metadata": {},
   "outputs": [
    {
     "name": "stdout",
     "output_type": "stream",
     "text": [
      "2.23606797749979\n",
      "3\n",
      "2.0\n"
     ]
    }
   ],
   "source": [
    "vecA = [0, 1, 0]\n",
    "vecB = [0, 0, 2]\n",
    "\n",
    "npvecA, npvecB = np.array(vecA), np.array(vecB)\n",
    "\n",
    "euclidean = Euclidean(npvecA, npvecB)\n",
    "print (euclidean)\n",
    "\n",
    "manhattan = Manhattan(npvecA, npvecB)\n",
    "print (manhattan)\n",
    "\n",
    "mahalanobis = Mahalanobis(npvecA, npvecB)\n",
    "print (mahalanobis)"
   ]
  }
 ],
 "metadata": {
  "kernelspec": {
   "display_name": "Python 3",
   "language": "python",
   "name": "python3"
  },
  "language_info": {
   "codemirror_mode": {
    "name": "ipython",
    "version": 3
   },
   "file_extension": ".py",
   "mimetype": "text/x-python",
   "name": "python",
   "nbconvert_exporter": "python",
   "pygments_lexer": "ipython3",
   "version": "3.6.1"
  }
 },
 "nbformat": 4,
 "nbformat_minor": 2
}
